{
  "cells": [
    {
      "cell_type": "markdown",
      "metadata": {
        "id": "view-in-github",
        "colab_type": "text"
      },
      "source": [
        "<a href=\"https://colab.research.google.com/github/ozturkgizem/gtsdb/blob/main/gtsdb_yolov4_son.ipynb\" target=\"_parent\"><img src=\"https://colab.research.google.com/assets/colab-badge.svg\" alt=\"Open In Colab\"/></a>"
      ]
    },
    {
      "cell_type": "markdown",
      "metadata": {
        "id": "ZWWriT9caIRn"
      },
      "source": [
        "# Verisetini Kaggle'dan Çekmek İçin Gerekli İşlemler\n"
      ]
    },
    {
      "cell_type": "code",
      "execution_count": null,
      "metadata": {
        "id": "98NuAK23uXoF"
      },
      "outputs": [],
      "source": [
        "!pip install kaggle"
      ]
    },
    {
      "cell_type": "code",
      "execution_count": null,
      "metadata": {
        "id": "yfDqNcJruk80"
      },
      "outputs": [],
      "source": [
        "!mkdir ~/.kaggle"
      ]
    },
    {
      "cell_type": "code",
      "execution_count": null,
      "metadata": {
        "id": "tbJzn4dzulUr"
      },
      "outputs": [],
      "source": [
        "!cp /content/kaggle.json ~/.kaggle/kaggle.json"
      ]
    },
    {
      "cell_type": "code",
      "execution_count": null,
      "metadata": {
        "id": "2r2-IHcLulaR"
      },
      "outputs": [],
      "source": [
        "! chmod 600 ~/.kaggle/kaggle.json"
      ]
    },
    {
      "cell_type": "code",
      "execution_count": null,
      "metadata": {
        "id": "SIjrlkSWuydw"
      },
      "outputs": [],
      "source": [
        "! kaggle datasets download hieunguyen21/german-traffic-sign-detection-benchmark-gtsdb"
      ]
    },
    {
      "cell_type": "code",
      "execution_count": null,
      "metadata": {
        "id": "rfsiZkacu5we"
      },
      "outputs": [],
      "source": [
        "! unzip german-traffic-sign-detection-benchmark-gtsdb.zip"
      ]
    },
    {
      "cell_type": "markdown",
      "metadata": {
        "id": "zjq92bmD7ueZ"
      },
      "source": [
        "## YOLO FORMATTING"
      ]
    },
    {
      "cell_type": "code",
      "execution_count": null,
      "metadata": {
        "id": "3ao8tq0h9Mcj"
      },
      "outputs": [],
      "source": [
        "import pandas as pd\n",
        "import os\n",
        "import cv2"
      ]
    },
    {
      "cell_type": "markdown",
      "source": [
        "CLASSES NAMES"
      ],
      "metadata": {
        "id": "COHzDXa7-0Ba"
      }
    },
    {
      "cell_type": "code",
      "source": [
        "classes = {0:'prohibitory',\n",
        "           1:'danger',\n",
        "           2:'mandatory',\n",
        "           3:'other'}\n",
        "           \n",
        "c = pd.DataFrame([classes])\n",
        "c.to_csv('/content/classes.names', header=False, index=False, sep='\\n')"
      ],
      "metadata": {
        "id": "6BoYHmqm6gFu"
      },
      "execution_count": null,
      "outputs": []
    },
    {
      "cell_type": "markdown",
      "source": [
        "ANNOTATIONS"
      ],
      "metadata": {
        "id": "lhzgPlr0_Dpn"
      }
    },
    {
      "cell_type": "code",
      "source": [
        "# Prohibitory category: circular Traffic Signs with white background and red border line\n",
        "p = [0, 1, 2, 3, 4, 5, 7, 8, 9, 10, 15, 16]\n",
        "\n",
        "# Danger category: triangular Traffic Signs with white background and red border line\n",
        "d = [11, 18, 19, 20, 21, 22, 23, 24, 25, 26, 27, 28, 29, 30, 31]\n",
        "\n",
        "# Mandatory category: circular Traffic Signs with blue background\n",
        "m = [33, 34, 35, 36, 37, 38, 39, 40]\n",
        "\n",
        "# Other category:\n",
        "o = [6, 12, 13, 14, 17, 32, 41, 42]"
      ],
      "metadata": {
        "id": "iq-JrWPV_Cki"
      },
      "execution_count": null,
      "outputs": []
    },
    {
      "cell_type": "code",
      "execution_count": null,
      "metadata": {
        "id": "aRhBMgzml41M",
        "colab": {
          "base_uri": "https://localhost:8080/"
        },
        "outputId": "9225a0e9-faf3-4e1d-f334-947b0d3e5818"
      },
      "outputs": [
        {
          "output_type": "stream",
          "name": "stdout",
          "text": [
            "     ImageID CategoryID  center x  center y  width  height\n",
            "0  00000.ppm          1     794.5     428.5     41      35\n",
            "1  00001.ppm          2    1003.5     410.0     41      44\n",
            "2  00001.ppm          2     414.0     523.0     56      58\n",
            "3  00001.ppm          3    1002.0     362.5     58      55\n",
            "4  00002.ppm          2     949.0     534.0    114     116\n"
          ]
        }
      ],
      "source": [
        "# Her fotoğraf için annotation txt dosyalarının oluşturulması için ön hazırlık\n",
        "ann = pd.read_csv('/content/FullIJCNN2013/gt.txt',\n",
        "                  names=['ImageID',\n",
        "                         'XMin',\n",
        "                         'YMin',\n",
        "                         'XMax',\n",
        "                         'YMax',\n",
        "                         'ClassID'],\n",
        "                  sep=';')\n",
        "\n",
        "# Adding new empty columns to dataFrame to save numbers for YOLO format\n",
        "ann['CategoryID'] = ''\n",
        "ann['center x'] = ''\n",
        "ann['center y'] = ''\n",
        "ann['width'] = ''\n",
        "ann['height'] = ''\n",
        "\n",
        "# Getting category's ID according to the class's ID\n",
        "ann.loc[ann['ClassID'].isin(p), 'CategoryID'] = 0\n",
        "ann.loc[ann['ClassID'].isin(d), 'CategoryID'] = 1\n",
        "ann.loc[ann['ClassID'].isin(m), 'CategoryID'] = 2\n",
        "ann.loc[ann['ClassID'].isin(o), 'CategoryID'] = 3\n",
        "\n",
        "# Calculating bounding box's center in x and y for all rows\n",
        "# Saving results to appropriate columns\n",
        "ann['center x'] = (ann['XMax'] + ann['XMin']) / 2\n",
        "ann['center y'] = (ann['YMax'] + ann['YMin']) / 2\n",
        "\n",
        "# Calculating bounding box's width and height for all rows\n",
        "# Saving results to appropriate columns\n",
        "ann['width'] = ann['XMax'] - ann['XMin']\n",
        "ann['height'] = ann['YMax'] - ann['YMin']\n",
        "\n",
        "# Getting Pandas dataFrame that has only needed columns\n",
        "# By using 'loc' method we locate here all rows but only specified columns\n",
        "# By using copy() we create separate dataFrame not just a reference to the previous one and, in this way, initial dataFrame will not be changed\n",
        "r = ann.loc[:, ['ImageID',\n",
        "                'CategoryID',\n",
        "                'center x',\n",
        "                'center y',\n",
        "                'width',\n",
        "                'height']].copy()\n",
        "\n",
        "# Check point\n",
        "# Showing first 5 rows from the dataFrame\n",
        "print(r.head())"
      ]
    },
    {
      "cell_type": "code",
      "execution_count": null,
      "metadata": {
        "id": "kvb7bZuq71os"
      },
      "outputs": [],
      "source": [
        "'''Normalizing YOLO numbers according to the real image width and height\n",
        "Saving annotations in txt files\n",
        "Converting images from ppm to jpg'''\n",
        "\n",
        "def annotation(fullPathtoDataset):\n",
        "  os.chdir(fullPathtoDataset)\n",
        "\n",
        "  for current_dir, dirs, files in os.walk('.'):\n",
        "     for f in files:\n",
        "        if f.endswith('.ppm'):\n",
        "          image_ppm = cv2.imread(f)\n",
        "          h, w = image_ppm.shape[:2]\n",
        "\n",
        "          # Slicing only name of the file without extension\n",
        "          image_name = f[:-4]\n",
        "\n",
        "          sub_r = r.loc[r['ImageID'] == f].copy()\n",
        "\n",
        "          # Normalizing calculated bounding boxes' coordinates according to the real image width and height\n",
        "          sub_r['center x'] = sub_r['center x'] / w\n",
        "          sub_r['center y'] = sub_r['center y'] / h\n",
        "          sub_r['width'] = sub_r['width'] / w\n",
        "          sub_r['height'] = sub_r['height'] / h\n",
        "\n",
        "          resulted_frame = sub_r.loc[:, ['CategoryID',\n",
        "                                         'center x',\n",
        "                                         'center y',\n",
        "                                         'width',\n",
        "                                         'height']].copy()\n",
        "\n",
        "          # Checking if there is no any annotations for current image\n",
        "          if resulted_frame.isnull().values.all():\n",
        "              continue\n",
        "\n",
        "          # Preparing path where to save txt file\n",
        "          path_to_save = fullPathtoDataset + '/' + image_name + '.txt'\n",
        "\n",
        "          # Saving resulted Pandas dataFrame into txt file\n",
        "          resulted_frame.to_csv(path_to_save, header=False, index=False, sep=' ')\n",
        "\n",
        "          # Preparing path where to save jpg image\n",
        "          path_to_save = fullPathtoDataset + '/' + image_name + '.jpg'\n",
        "\n",
        "          # Saving image in jpg format by OpenCV function that uses extension to choose format to save with\n",
        "          cv2.imwrite(path_to_save, image_ppm)"
      ]
    },
    {
      "cell_type": "markdown",
      "metadata": {
        "id": "Jd6zLAfCFU1K"
      },
      "source": [
        "TXT VE JPGLERİN OLUŞTURULMASI"
      ]
    },
    {
      "cell_type": "code",
      "execution_count": null,
      "metadata": {
        "id": "E8aBAqzJA5DS"
      },
      "outputs": [],
      "source": [
        "annotation('/content/FullIJCNN2013')"
      ]
    },
    {
      "cell_type": "code",
      "execution_count": null,
      "metadata": {
        "id": "mVAjjxOyEC9g"
      },
      "outputs": [],
      "source": [
        "#from pathlib import Path\n",
        "\n",
        "#rootdir = '/content/FullIJCNN2013'\n",
        "#for path in Path(rootdir).iterdir():\n",
        "#  if path.is_dir():\n",
        "#    path=str(path)\n",
        "#    annotation(path)"
      ]
    },
    {
      "cell_type": "markdown",
      "metadata": {
        "id": "v2MRyWY1FdLk"
      },
      "source": [
        "TRAİN VE TEST TXTLERİN OLUŞTURULMASI"
      ]
    },
    {
      "cell_type": "code",
      "execution_count": null,
      "metadata": {
        "id": "pnd11paBFknr"
      },
      "outputs": [],
      "source": [
        "full_path_to_images = '/content/FullIJCNN2013'\n",
        "\n",
        "os.chdir(full_path_to_images)\n",
        "\n",
        "# Defining list to write paths in\n",
        "p = []\n",
        "\n",
        "for current_dir, dirs, files in os.walk('.'):\n",
        "    # Going through all files\n",
        "    for f in files:\n",
        "        # Checking if filename ends with '.jpg'\n",
        "        if f.endswith('.jpg'):\n",
        "            path_to_save_into_txt_files = full_path_to_images + '/' + f\n",
        "            p.append(path_to_save_into_txt_files + '\\n')\n",
        "\n",
        "\n",
        "# Slicing first 15% of elements from the list to write into the test.txt file\n",
        "p_test = p[:int(len(p) * 0.15)]\n",
        "\n",
        "# Deleting from initial list first 15% of elements\n",
        "p = p[int(len(p) * 0.15):]\n",
        "\n",
        "with open('train.txt', 'w') as train_txt:\n",
        "    # Going through all elements of the list\n",
        "    for e in p:\n",
        "        train_txt.write(e)\n",
        "\n",
        "with open('test.txt', 'w') as test_txt:\n",
        "    # Going through all elements of the list\n",
        "    for e in p_test:\n",
        "        test_txt.write(e)"
      ]
    },
    {
      "cell_type": "markdown",
      "metadata": {
        "id": "NtGPjreVaQP9"
      },
      "source": [
        "# Darknet\n"
      ]
    },
    {
      "cell_type": "code",
      "execution_count": null,
      "metadata": {
        "id": "-gJn7IWFY1cY",
        "colab": {
          "base_uri": "https://localhost:8080/"
        },
        "outputId": "b939a72b-7a2d-4f4e-9142-2245558fa0ff"
      },
      "outputs": [
        {
          "output_type": "stream",
          "name": "stdout",
          "text": [
            "Cloning into 'darknet'...\n",
            "remote: Enumerating objects: 15386, done.\u001b[K\n",
            "remote: Total 15386 (delta 0), reused 0 (delta 0), pack-reused 15386\u001b[K\n",
            "Receiving objects: 100% (15386/15386), 14.01 MiB | 16.53 MiB/s, done.\n",
            "Resolving deltas: 100% (10345/10345), done.\n"
          ]
        }
      ],
      "source": [
        "os.chdir('/content')\n",
        "! git clone https://github.com/AlexeyAB/darknet/"
      ]
    },
    {
      "cell_type": "code",
      "execution_count": null,
      "metadata": {
        "id": "Fk06lEJ0TV24"
      },
      "outputs": [],
      "source": [
        "os.chdir('/content/darknet')\n",
        "#compiling w cuda\n",
        "! sed -i 's/GPU=0/GPU=1/g' Makefile\n",
        "\n",
        "! sed -i 's/CUDNN=0/CUDNN=1/g' Makefile\n",
        "\n",
        "#compiling w openCv\n",
        "import cv2\n",
        "! sed -i 's/OPENCV=0/OPENCV=1/g' Makefile"
      ]
    },
    {
      "cell_type": "code",
      "execution_count": null,
      "metadata": {
        "id": "7wqwTJ_VNd2V"
      },
      "outputs": [],
      "source": [
        "# CUSTOM_DATA.DATA FILE\n",
        "\n",
        "with open('/content/darknet/cfg/ts_data.data', 'w') as out:\n",
        "  out.write('classes = 4\\n')\n",
        "  out.write('train = /content/FullIJCNN2013/train.txt\\n')\n",
        "  out.write('valid = /content/FullIJCNN2013/test.txt\\n')\n",
        "  out.write('names = /content/classes.names\\n')\n",
        "  out.write('backup = backup')"
      ]
    },
    {
      "cell_type": "code",
      "execution_count": null,
      "metadata": {
        "id": "O_ztXSr0hLtp"
      },
      "outputs": [],
      "source": [
        "os.chdir('/content/darknet')\n",
        "! make"
      ]
    },
    {
      "cell_type": "code",
      "execution_count": null,
      "metadata": {
        "id": "FLB6Mz3_S3YS",
        "colab": {
          "base_uri": "https://localhost:8080/"
        },
        "outputId": "29f0796d-f63a-4f47-aca8-b84395d00b26"
      },
      "outputs": [
        {
          "output_type": "stream",
          "name": "stdout",
          "text": [
            "usage: ./darknet <function>\n"
          ]
        }
      ],
      "source": [
        "!./darknet"
      ]
    },
    {
      "cell_type": "code",
      "execution_count": null,
      "metadata": {
        "id": "cZLCk_nrlsTy"
      },
      "outputs": [],
      "source": [
        "#!wget https://github.com/AlexeyAB/darknet/releases/download/darknet_yolo_v3_optimal/yolov4.conv.137\n",
        "!wget https://github.com/AlexeyAB/darknet/releases/download/darknet_yolo_v4_pre/yolov4-tiny.weights"
      ]
    },
    {
      "cell_type": "code",
      "execution_count": null,
      "metadata": {
        "id": "MHrv7NJ3asR5"
      },
      "outputs": [],
      "source": [
        "#!./darknet detector train cfg/ts_data.data cfg/yolov4-custom_train.cfg yolov4.conv.137 -thresh 0.25 -dont_show \n",
        "#!./darknet detector train cfg/ts_data.data cfg/yolov4-tiny_train.cfg yolov4-tiny.weights -thresh 0.25 -dont_show"
      ]
    },
    {
      "cell_type": "code",
      "source": [
        "#train devam\n",
        "!./darknet detector train cfg/ts_data.data cfg/yolov4-tiny_train.cfg yolov4-tiny_train_6000.weights -thresh 0.25 -dont_show"
      ],
      "metadata": {
        "id": "tXggP_3bb4u2"
      },
      "execution_count": null,
      "outputs": []
    },
    {
      "cell_type": "code",
      "source": [
        "!./darknet detector map cfg/ts_data.data cfg/yolov4-tiny_train.cfg backup/yolov4-tiny_train_8000.weights"
      ],
      "metadata": {
        "id": "4KL9uGwRAgwe"
      },
      "execution_count": null,
      "outputs": []
    },
    {
      "cell_type": "markdown",
      "source": [
        "foto"
      ],
      "metadata": {
        "id": "HibkP6LiBQ3s"
      }
    },
    {
      "cell_type": "code",
      "source": [
        "!./darknet detector test cfg/ts_data.data cfg/yolov4-tiny_train.cfg yolov4-tiny_train_8000.weights content/image1.jpg -thresh 0.3\n",
        "imShow('predictions.jpg')"
      ],
      "metadata": {
        "id": "FfUi_p-vAv96"
      },
      "execution_count": null,
      "outputs": []
    },
    {
      "cell_type": "markdown",
      "source": [
        "video"
      ],
      "metadata": {
        "id": "t5YLUmA1BMB1"
      }
    },
    {
      "cell_type": "code",
      "source": [
        "!./darknet detector demo cfg/ts_data.data cfg/yolov4-tiny_train.cfg yolov4-tiny_train_8000.weights -dont_show /mydrive/mask_test_videos/test1.mp4 -thresh 0.7 -i 0 -out_filename /mydrive/mask_test_videos/results1.avi"
      ],
      "metadata": {
        "id": "kRtmU8A8BMeo"
      },
      "execution_count": null,
      "outputs": []
    }
  ],
  "metadata": {
    "accelerator": "GPU",
    "colab": {
      "collapsed_sections": [],
      "name": "gtsdb-yolov4-son",
      "provenance": [],
      "include_colab_link": true
    },
    "kernelspec": {
      "display_name": "Python 3",
      "name": "python3"
    },
    "language_info": {
      "name": "python"
    }
  },
  "nbformat": 4,
  "nbformat_minor": 0
}